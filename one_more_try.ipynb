{
 "cells": [
  {
   "cell_type": "markdown",
   "id": "0a892ec0",
   "metadata": {},
   "source": [
    "# Importing Necessary Libraries"
   ]
  },
  {
   "cell_type": "code",
   "execution_count": 1,
   "id": "c07ea944",
   "metadata": {},
   "outputs": [],
   "source": [
    "import numpy as np\n",
    "import pandas as pd\n",
    "import math\n",
    "from sklearn.preprocessing import MinMaxScaler\n",
    "from keras.models import Sequential\n",
    "from keras.layers import Dense,LSTM,Dropout\n",
    "import matplotlib.pyplot as plt\n"
   ]
  },
  {
   "cell_type": "markdown",
   "id": "cc0f3e8a",
   "metadata": {},
   "source": [
    "# Combining CSV files in single file"
   ]
  },
  {
   "cell_type": "code",
   "execution_count": 2,
   "id": "54baed72",
   "metadata": {},
   "outputs": [
    {
     "data": {
      "text/plain": [
       "['stock_data1 (1).csv', 'stock_data2.csv', 'stock_data3.csv']"
      ]
     },
     "execution_count": 2,
     "metadata": {},
     "output_type": "execute_result"
    }
   ],
   "source": [
    "import glob \n",
    "csv_files=glob.glob('*.{}'.format('csv'))\n",
    "csv_files"
   ]
  },
  {
   "cell_type": "code",
   "execution_count": 9,
   "id": "a4e9c29e",
   "metadata": {},
   "outputs": [
    {
     "name": "stderr",
     "output_type": "stream",
     "text": [
      "C:\\Users\\ekta\\AppData\\Local\\Temp\\ipykernel_16420\\2893495819.py:4: FutureWarning: The frame.append method is deprecated and will be removed from pandas in a future version. Use pandas.concat instead.\n",
      "  df_append=df_append.append(df,ignore_index=True)\n",
      "C:\\Users\\ekta\\AppData\\Local\\Temp\\ipykernel_16420\\2893495819.py:4: FutureWarning: The frame.append method is deprecated and will be removed from pandas in a future version. Use pandas.concat instead.\n",
      "  df_append=df_append.append(df,ignore_index=True)\n",
      "C:\\Users\\ekta\\AppData\\Local\\Temp\\ipykernel_16420\\2893495819.py:4: FutureWarning: The frame.append method is deprecated and will be removed from pandas in a future version. Use pandas.concat instead.\n",
      "  df_append=df_append.append(df,ignore_index=True)\n"
     ]
    },
    {
     "data": {
      "text/html": [
       "<div>\n",
       "<style scoped>\n",
       "    .dataframe tbody tr th:only-of-type {\n",
       "        vertical-align: middle;\n",
       "    }\n",
       "\n",
       "    .dataframe tbody tr th {\n",
       "        vertical-align: top;\n",
       "    }\n",
       "\n",
       "    .dataframe thead th {\n",
       "        text-align: right;\n",
       "    }\n",
       "</style>\n",
       "<table border=\"1\" class=\"dataframe\">\n",
       "  <thead>\n",
       "    <tr style=\"text-align: right;\">\n",
       "      <th></th>\n",
       "      <th>Datetime</th>\n",
       "      <th>Open</th>\n",
       "      <th>High</th>\n",
       "      <th>Low</th>\n",
       "      <th>Close</th>\n",
       "      <th>Adj Close</th>\n",
       "      <th>Volume</th>\n",
       "    </tr>\n",
       "  </thead>\n",
       "  <tbody>\n",
       "    <tr>\n",
       "      <th>0</th>\n",
       "      <td>2023-04-24 09:15:00+05:30</td>\n",
       "      <td>2372.399902</td>\n",
       "      <td>2380.850098</td>\n",
       "      <td>2366.899902</td>\n",
       "      <td>2378.000000</td>\n",
       "      <td>2378.000000</td>\n",
       "      <td>0.0</td>\n",
       "    </tr>\n",
       "    <tr>\n",
       "      <th>1</th>\n",
       "      <td>2023-04-24 09:20:00+05:30</td>\n",
       "      <td>2378.000000</td>\n",
       "      <td>2380.000000</td>\n",
       "      <td>2370.750000</td>\n",
       "      <td>2371.449951</td>\n",
       "      <td>2371.449951</td>\n",
       "      <td>303062.0</td>\n",
       "    </tr>\n",
       "    <tr>\n",
       "      <th>2</th>\n",
       "      <td>2023-04-24 09:25:00+05:30</td>\n",
       "      <td>2371.250000</td>\n",
       "      <td>2376.300049</td>\n",
       "      <td>2365.699951</td>\n",
       "      <td>2365.699951</td>\n",
       "      <td>2365.699951</td>\n",
       "      <td>203201.0</td>\n",
       "    </tr>\n",
       "    <tr>\n",
       "      <th>3</th>\n",
       "      <td>2023-04-24 09:30:00+05:30</td>\n",
       "      <td>2365.699951</td>\n",
       "      <td>2365.949951</td>\n",
       "      <td>2358.000000</td>\n",
       "      <td>2359.949951</td>\n",
       "      <td>2359.949951</td>\n",
       "      <td>310773.0</td>\n",
       "    </tr>\n",
       "    <tr>\n",
       "      <th>4</th>\n",
       "      <td>2023-04-24 09:35:00+05:30</td>\n",
       "      <td>2359.149902</td>\n",
       "      <td>2362.000000</td>\n",
       "      <td>2352.899902</td>\n",
       "      <td>2358.649902</td>\n",
       "      <td>2358.649902</td>\n",
       "      <td>220015.0</td>\n",
       "    </tr>\n",
       "    <tr>\n",
       "      <th>...</th>\n",
       "      <td>...</td>\n",
       "      <td>...</td>\n",
       "      <td>...</td>\n",
       "      <td>...</td>\n",
       "      <td>...</td>\n",
       "      <td>...</td>\n",
       "      <td>...</td>\n",
       "    </tr>\n",
       "    <tr>\n",
       "      <th>6070</th>\n",
       "      <td>2023-05-31 15:05:00+05:30</td>\n",
       "      <td>12.045000</td>\n",
       "      <td>12.230000</td>\n",
       "      <td>11.962500</td>\n",
       "      <td>11.987500</td>\n",
       "      <td>11.987500</td>\n",
       "      <td>NaN</td>\n",
       "    </tr>\n",
       "    <tr>\n",
       "      <th>6071</th>\n",
       "      <td>2023-05-31 15:10:00+05:30</td>\n",
       "      <td>11.967500</td>\n",
       "      <td>12.022500</td>\n",
       "      <td>11.935000</td>\n",
       "      <td>11.997500</td>\n",
       "      <td>11.997500</td>\n",
       "      <td>NaN</td>\n",
       "    </tr>\n",
       "    <tr>\n",
       "      <th>6072</th>\n",
       "      <td>2023-05-31 15:15:00+05:30</td>\n",
       "      <td>11.997500</td>\n",
       "      <td>12.000000</td>\n",
       "      <td>11.852500</td>\n",
       "      <td>11.865000</td>\n",
       "      <td>11.865000</td>\n",
       "      <td>NaN</td>\n",
       "    </tr>\n",
       "    <tr>\n",
       "      <th>6073</th>\n",
       "      <td>2023-05-31 15:20:00+05:30</td>\n",
       "      <td>11.862500</td>\n",
       "      <td>11.965000</td>\n",
       "      <td>11.817500</td>\n",
       "      <td>11.912500</td>\n",
       "      <td>11.912500</td>\n",
       "      <td>NaN</td>\n",
       "    </tr>\n",
       "    <tr>\n",
       "      <th>6074</th>\n",
       "      <td>2023-05-31 15:25:00+05:30</td>\n",
       "      <td>11.912500</td>\n",
       "      <td>12.057500</td>\n",
       "      <td>11.892500</td>\n",
       "      <td>12.045000</td>\n",
       "      <td>12.045000</td>\n",
       "      <td>NaN</td>\n",
       "    </tr>\n",
       "  </tbody>\n",
       "</table>\n",
       "<p>6075 rows × 7 columns</p>\n",
       "</div>"
      ],
      "text/plain": [
       "                       Datetime         Open         High          Low  \\\n",
       "0     2023-04-24 09:15:00+05:30  2372.399902  2380.850098  2366.899902   \n",
       "1     2023-04-24 09:20:00+05:30  2378.000000  2380.000000  2370.750000   \n",
       "2     2023-04-24 09:25:00+05:30  2371.250000  2376.300049  2365.699951   \n",
       "3     2023-04-24 09:30:00+05:30  2365.699951  2365.949951  2358.000000   \n",
       "4     2023-04-24 09:35:00+05:30  2359.149902  2362.000000  2352.899902   \n",
       "...                         ...          ...          ...          ...   \n",
       "6070  2023-05-31 15:05:00+05:30    12.045000    12.230000    11.962500   \n",
       "6071  2023-05-31 15:10:00+05:30    11.967500    12.022500    11.935000   \n",
       "6072  2023-05-31 15:15:00+05:30    11.997500    12.000000    11.852500   \n",
       "6073  2023-05-31 15:20:00+05:30    11.862500    11.965000    11.817500   \n",
       "6074  2023-05-31 15:25:00+05:30    11.912500    12.057500    11.892500   \n",
       "\n",
       "            Close    Adj Close    Volume  \n",
       "0     2378.000000  2378.000000       0.0  \n",
       "1     2371.449951  2371.449951  303062.0  \n",
       "2     2365.699951  2365.699951  203201.0  \n",
       "3     2359.949951  2359.949951  310773.0  \n",
       "4     2358.649902  2358.649902  220015.0  \n",
       "...           ...          ...       ...  \n",
       "6070    11.987500    11.987500       NaN  \n",
       "6071    11.997500    11.997500       NaN  \n",
       "6072    11.865000    11.865000       NaN  \n",
       "6073    11.912500    11.912500       NaN  \n",
       "6074    12.045000    12.045000       NaN  \n",
       "\n",
       "[6075 rows x 7 columns]"
      ]
     },
     "execution_count": 9,
     "metadata": {},
     "output_type": "execute_result"
    }
   ],
   "source": [
    "df_append=pd.DataFrame()\n",
    "for file in csv_files:\n",
    "    df=pd.read_csv(file)\n",
    "    df_append=df_append.append(df,ignore_index=True)\n",
    "df_append"
   ]
  },
  {
   "cell_type": "code",
   "execution_count": null,
   "id": "579160a3",
   "metadata": {},
   "outputs": [],
   "source": []
  },
  {
   "cell_type": "code",
   "execution_count": 4,
   "id": "3d86e1d3",
   "metadata": {},
   "outputs": [
    {
     "data": {
      "text/html": [
       "<div>\n",
       "<style scoped>\n",
       "    .dataframe tbody tr th:only-of-type {\n",
       "        vertical-align: middle;\n",
       "    }\n",
       "\n",
       "    .dataframe tbody tr th {\n",
       "        vertical-align: top;\n",
       "    }\n",
       "\n",
       "    .dataframe thead th {\n",
       "        text-align: right;\n",
       "    }\n",
       "</style>\n",
       "<table border=\"1\" class=\"dataframe\">\n",
       "  <thead>\n",
       "    <tr style=\"text-align: right;\">\n",
       "      <th></th>\n",
       "      <th>Open</th>\n",
       "      <th>High</th>\n",
       "      <th>Low</th>\n",
       "      <th>Close</th>\n",
       "      <th>Adj Close</th>\n",
       "      <th>Volume</th>\n",
       "    </tr>\n",
       "  </thead>\n",
       "  <tbody>\n",
       "    <tr>\n",
       "      <th>count</th>\n",
       "      <td>6075.000000</td>\n",
       "      <td>6075.000000</td>\n",
       "      <td>6075.000000</td>\n",
       "      <td>6075.000000</td>\n",
       "      <td>6075.000000</td>\n",
       "      <td>2.025000e+03</td>\n",
       "    </tr>\n",
       "    <tr>\n",
       "      <th>mean</th>\n",
       "      <td>6891.479495</td>\n",
       "      <td>6894.176509</td>\n",
       "      <td>6888.753265</td>\n",
       "      <td>6891.537882</td>\n",
       "      <td>6891.537882</td>\n",
       "      <td>5.923732e+04</td>\n",
       "    </tr>\n",
       "    <tr>\n",
       "      <th>std</th>\n",
       "      <td>8069.408591</td>\n",
       "      <td>8072.070548</td>\n",
       "      <td>8066.761266</td>\n",
       "      <td>8069.483380</td>\n",
       "      <td>8069.483380</td>\n",
       "      <td>7.798613e+04</td>\n",
       "    </tr>\n",
       "    <tr>\n",
       "      <th>min</th>\n",
       "      <td>10.840000</td>\n",
       "      <td>10.860000</td>\n",
       "      <td>8.182500</td>\n",
       "      <td>10.840000</td>\n",
       "      <td>10.840000</td>\n",
       "      <td>0.000000e+00</td>\n",
       "    </tr>\n",
       "    <tr>\n",
       "      <th>25%</th>\n",
       "      <td>12.881250</td>\n",
       "      <td>12.930000</td>\n",
       "      <td>12.826250</td>\n",
       "      <td>12.882500</td>\n",
       "      <td>12.882500</td>\n",
       "      <td>2.518600e+04</td>\n",
       "    </tr>\n",
       "    <tr>\n",
       "      <th>50%</th>\n",
       "      <td>2452.149902</td>\n",
       "      <td>2454.500000</td>\n",
       "      <td>2450.000000</td>\n",
       "      <td>2452.199951</td>\n",
       "      <td>2452.199951</td>\n",
       "      <td>4.127400e+04</td>\n",
       "    </tr>\n",
       "    <tr>\n",
       "      <th>75%</th>\n",
       "      <td>18118.474610</td>\n",
       "      <td>18127.024415</td>\n",
       "      <td>18111.650390</td>\n",
       "      <td>18118.799805</td>\n",
       "      <td>18118.799805</td>\n",
       "      <td>7.085200e+04</td>\n",
       "    </tr>\n",
       "    <tr>\n",
       "      <th>max</th>\n",
       "      <td>18653.150390</td>\n",
       "      <td>18661.800780</td>\n",
       "      <td>18650.599610</td>\n",
       "      <td>18652.199220</td>\n",
       "      <td>18652.199220</td>\n",
       "      <td>1.308899e+06</td>\n",
       "    </tr>\n",
       "  </tbody>\n",
       "</table>\n",
       "</div>"
      ],
      "text/plain": [
       "               Open          High           Low         Close     Adj Close  \\\n",
       "count   6075.000000   6075.000000   6075.000000   6075.000000   6075.000000   \n",
       "mean    6891.479495   6894.176509   6888.753265   6891.537882   6891.537882   \n",
       "std     8069.408591   8072.070548   8066.761266   8069.483380   8069.483380   \n",
       "min       10.840000     10.860000      8.182500     10.840000     10.840000   \n",
       "25%       12.881250     12.930000     12.826250     12.882500     12.882500   \n",
       "50%     2452.149902   2454.500000   2450.000000   2452.199951   2452.199951   \n",
       "75%    18118.474610  18127.024415  18111.650390  18118.799805  18118.799805   \n",
       "max    18653.150390  18661.800780  18650.599610  18652.199220  18652.199220   \n",
       "\n",
       "             Volume  \n",
       "count  2.025000e+03  \n",
       "mean   5.923732e+04  \n",
       "std    7.798613e+04  \n",
       "min    0.000000e+00  \n",
       "25%    2.518600e+04  \n",
       "50%    4.127400e+04  \n",
       "75%    7.085200e+04  \n",
       "max    1.308899e+06  "
      ]
     },
     "execution_count": 4,
     "metadata": {},
     "output_type": "execute_result"
    }
   ],
   "source": [
    "df_append.describe()"
   ]
  },
  {
   "cell_type": "code",
   "execution_count": 5,
   "id": "a08b8c2d",
   "metadata": {},
   "outputs": [
    {
     "data": {
      "text/plain": [
       "(6075, 7)"
      ]
     },
     "execution_count": 5,
     "metadata": {},
     "output_type": "execute_result"
    }
   ],
   "source": [
    "df_append.shape"
   ]
  },
  {
   "cell_type": "markdown",
   "id": "da00695a",
   "metadata": {},
   "source": [
    "# Setting Target variable and features"
   ]
  },
  {
   "cell_type": "code",
   "execution_count": 6,
   "id": "b042dd00",
   "metadata": {},
   "outputs": [],
   "source": [
    "output_variable=pd.DataFrame(df['Close'])\n",
    "features=['Open','High','Low']"
   ]
  },
  {
   "cell_type": "markdown",
   "id": "d4ead7bc",
   "metadata": {},
   "source": [
    "# Normalizing Data(scaling)"
   ]
  },
  {
   "cell_type": "code",
   "execution_count": 7,
   "id": "4a0009a8",
   "metadata": {},
   "outputs": [
    {
     "data": {
      "text/html": [
       "<div>\n",
       "<style scoped>\n",
       "    .dataframe tbody tr th:only-of-type {\n",
       "        vertical-align: middle;\n",
       "    }\n",
       "\n",
       "    .dataframe tbody tr th {\n",
       "        vertical-align: top;\n",
       "    }\n",
       "\n",
       "    .dataframe thead th {\n",
       "        text-align: right;\n",
       "    }\n",
       "</style>\n",
       "<table border=\"1\" class=\"dataframe\">\n",
       "  <thead>\n",
       "    <tr style=\"text-align: right;\">\n",
       "      <th></th>\n",
       "      <th>Open</th>\n",
       "      <th>High</th>\n",
       "      <th>Low</th>\n",
       "    </tr>\n",
       "  </thead>\n",
       "  <tbody>\n",
       "    <tr>\n",
       "      <th>0</th>\n",
       "      <td>0.275742</td>\n",
       "      <td>0.442709</td>\n",
       "      <td>0.628246</td>\n",
       "    </tr>\n",
       "    <tr>\n",
       "      <th>1</th>\n",
       "      <td>0.395288</td>\n",
       "      <td>0.425347</td>\n",
       "      <td>0.674715</td>\n",
       "    </tr>\n",
       "    <tr>\n",
       "      <th>2</th>\n",
       "      <td>0.408377</td>\n",
       "      <td>0.416667</td>\n",
       "      <td>0.688838</td>\n",
       "    </tr>\n",
       "    <tr>\n",
       "      <th>3</th>\n",
       "      <td>0.421466</td>\n",
       "      <td>0.415799</td>\n",
       "      <td>0.694761</td>\n",
       "    </tr>\n",
       "    <tr>\n",
       "      <th>4</th>\n",
       "      <td>0.415358</td>\n",
       "      <td>0.416667</td>\n",
       "      <td>0.692483</td>\n",
       "    </tr>\n",
       "  </tbody>\n",
       "</table>\n",
       "</div>"
      ],
      "text/plain": [
       "       Open      High       Low\n",
       "0  0.275742  0.442709  0.628246\n",
       "1  0.395288  0.425347  0.674715\n",
       "2  0.408377  0.416667  0.688838\n",
       "3  0.421466  0.415799  0.694761\n",
       "4  0.415358  0.416667  0.692483"
      ]
     },
     "execution_count": 7,
     "metadata": {},
     "output_type": "execute_result"
    }
   ],
   "source": [
    "scaler=MinMaxScaler()\n",
    "feature_transform=scaler.fit_transform(df[features])\n",
    "feature_transform=pd.DataFrame(columns=features,data=feature_transform,index=df.index)\n",
    "feature_transform.head()"
   ]
  },
  {
   "cell_type": "markdown",
   "id": "640503bf",
   "metadata": {},
   "source": [
    "# Creating train test dataset for model"
   ]
  },
  {
   "cell_type": "code",
   "execution_count": 12,
   "id": "87196d67",
   "metadata": {},
   "outputs": [],
   "source": [
    "from sklearn.model_selection import TimeSeriesSplit\n",
    "timesplit=TimeSeriesSplit(n_splits=10)\n",
    "for train_index,test_index in timesplit.split(feature_transform):\n",
    "    X_train,X_test=feature_transform[:len(train_index)],feature_transform[len(train_index):(len(train_index)+len(test_index))]\n",
    "    Y_train,Y_test=output_variable[:len(train_index)].values.ravel(),output_variable[len(train_index):(len(train_index)+len(test_index))].values.ravel()\n"
   ]
  },
  {
   "cell_type": "markdown",
   "id": "c1602c62",
   "metadata": {},
   "source": [
    "# Reshaping array"
   ]
  },
  {
   "cell_type": "code",
   "execution_count": 13,
   "id": "6a57d6d4",
   "metadata": {},
   "outputs": [],
   "source": [
    "trainX=np.array(X_train)\n",
    "testX=np.array(X_test)\n",
    "X_train=trainX.reshape(X_train.shape[0],1,X_train.shape[1])\n",
    "X_test=testX.reshape(X_test.shape[0],1,X_test.shape[1])"
   ]
  },
  {
   "cell_type": "markdown",
   "id": "4bd127a4",
   "metadata": {},
   "source": [
    "# Model Building"
   ]
  },
  {
   "cell_type": "code",
   "execution_count": 15,
   "id": "76bc9572",
   "metadata": {},
   "outputs": [
    {
     "name": "stdout",
     "output_type": "stream",
     "text": [
      "Epoch 1/100\n",
      "231/231 [==============================] - 2s 2ms/step - loss: 130.4832\n",
      "Epoch 2/100\n",
      "231/231 [==============================] - 0s 2ms/step - loss: 38.4053\n",
      "Epoch 3/100\n",
      "231/231 [==============================] - 1s 2ms/step - loss: 7.0131\n",
      "Epoch 4/100\n",
      "231/231 [==============================] - 0s 2ms/step - loss: 5.7989\n",
      "Epoch 5/100\n",
      "231/231 [==============================] - 0s 2ms/step - loss: 5.1220\n",
      "Epoch 6/100\n",
      "231/231 [==============================] - 0s 2ms/step - loss: 4.4963\n",
      "Epoch 7/100\n",
      "231/231 [==============================] - 1s 2ms/step - loss: 3.8888\n",
      "Epoch 8/100\n",
      "231/231 [==============================] - 1s 3ms/step - loss: 3.3557\n",
      "Epoch 9/100\n",
      "231/231 [==============================] - 1s 2ms/step - loss: 2.8607\n",
      "Epoch 10/100\n",
      "231/231 [==============================] - 1s 3ms/step - loss: 2.4097\n",
      "Epoch 11/100\n",
      "231/231 [==============================] - 1s 3ms/step - loss: 2.0026\n",
      "Epoch 12/100\n",
      "231/231 [==============================] - 1s 2ms/step - loss: 1.6397\n",
      "Epoch 13/100\n",
      "231/231 [==============================] - 1s 3ms/step - loss: 1.3216\n",
      "Epoch 14/100\n",
      "231/231 [==============================] - 1s 3ms/step - loss: 1.0484\n",
      "Epoch 15/100\n",
      "231/231 [==============================] - 1s 3ms/step - loss: 0.8194\n",
      "Epoch 16/100\n",
      "231/231 [==============================] - 1s 3ms/step - loss: 0.6316\n",
      "Epoch 17/100\n",
      "231/231 [==============================] - 1s 2ms/step - loss: 0.4823\n",
      "Epoch 18/100\n",
      "231/231 [==============================] - 1s 3ms/step - loss: 0.3669\n",
      "Epoch 19/100\n",
      "231/231 [==============================] - 1s 3ms/step - loss: 0.2792\n",
      "Epoch 20/100\n",
      "231/231 [==============================] - 1s 3ms/step - loss: 0.2137\n",
      "Epoch 21/100\n",
      "231/231 [==============================] - 1s 3ms/step - loss: 0.1653\n",
      "Epoch 22/100\n",
      "231/231 [==============================] - 1s 2ms/step - loss: 0.1298\n",
      "Epoch 23/100\n",
      "231/231 [==============================] - 1s 3ms/step - loss: 0.1041\n",
      "Epoch 24/100\n",
      "231/231 [==============================] - 1s 3ms/step - loss: 0.0855\n",
      "Epoch 25/100\n",
      "231/231 [==============================] - 1s 3ms/step - loss: 0.0722\n",
      "Epoch 26/100\n",
      "231/231 [==============================] - 1s 3ms/step - loss: 0.0626\n",
      "Epoch 27/100\n",
      "231/231 [==============================] - 1s 2ms/step - loss: 0.0558\n",
      "Epoch 28/100\n",
      "231/231 [==============================] - 1s 3ms/step - loss: 0.0508\n",
      "Epoch 29/100\n",
      "231/231 [==============================] - 1s 2ms/step - loss: 0.0472\n",
      "Epoch 30/100\n",
      "231/231 [==============================] - 0s 2ms/step - loss: 0.0446\n",
      "Epoch 31/100\n",
      "231/231 [==============================] - 0s 2ms/step - loss: 0.0425\n",
      "Epoch 32/100\n",
      "231/231 [==============================] - 0s 2ms/step - loss: 0.0409\n",
      "Epoch 33/100\n",
      "231/231 [==============================] - 0s 2ms/step - loss: 0.0396\n",
      "Epoch 34/100\n",
      "231/231 [==============================] - 0s 2ms/step - loss: 0.0384\n",
      "Epoch 35/100\n",
      "231/231 [==============================] - 0s 2ms/step - loss: 0.0373\n",
      "Epoch 36/100\n",
      "231/231 [==============================] - 1s 3ms/step - loss: 0.0363\n",
      "Epoch 37/100\n",
      "231/231 [==============================] - 1s 3ms/step - loss: 0.0353\n",
      "Epoch 38/100\n",
      "231/231 [==============================] - 1s 2ms/step - loss: 0.0343\n",
      "Epoch 39/100\n",
      "231/231 [==============================] - 1s 3ms/step - loss: 0.0334\n",
      "Epoch 40/100\n",
      "231/231 [==============================] - 1s 3ms/step - loss: 0.0324\n",
      "Epoch 41/100\n",
      "231/231 [==============================] - 1s 3ms/step - loss: 0.0314\n",
      "Epoch 42/100\n",
      "231/231 [==============================] - 1s 3ms/step - loss: 0.0303\n",
      "Epoch 43/100\n",
      "231/231 [==============================] - 1s 2ms/step - loss: 0.0293\n",
      "Epoch 44/100\n",
      "231/231 [==============================] - 1s 3ms/step - loss: 0.0282\n",
      "Epoch 45/100\n",
      "231/231 [==============================] - 1s 3ms/step - loss: 0.0271\n",
      "Epoch 46/100\n",
      "231/231 [==============================] - 1s 3ms/step - loss: 0.0260\n",
      "Epoch 47/100\n",
      "231/231 [==============================] - 1s 3ms/step - loss: 0.0249\n",
      "Epoch 48/100\n",
      "231/231 [==============================] - 1s 3ms/step - loss: 0.0238\n",
      "Epoch 49/100\n",
      "231/231 [==============================] - 1s 2ms/step - loss: 0.0227\n",
      "Epoch 50/100\n",
      "231/231 [==============================] - 1s 2ms/step - loss: 0.0217\n",
      "Epoch 51/100\n",
      "231/231 [==============================] - 1s 2ms/step - loss: 0.0207\n",
      "Epoch 52/100\n",
      "231/231 [==============================] - 1s 3ms/step - loss: 0.0197\n",
      "Epoch 53/100\n",
      "231/231 [==============================] - 1s 3ms/step - loss: 0.0188\n",
      "Epoch 54/100\n",
      "231/231 [==============================] - 1s 2ms/step - loss: 0.0179\n",
      "Epoch 55/100\n",
      "231/231 [==============================] - 1s 3ms/step - loss: 0.0171\n",
      "Epoch 56/100\n",
      "231/231 [==============================] - 1s 2ms/step - loss: 0.0162\n",
      "Epoch 57/100\n",
      "231/231 [==============================] - 1s 2ms/step - loss: 0.0154\n",
      "Epoch 58/100\n",
      "231/231 [==============================] - 0s 2ms/step - loss: 0.0147\n",
      "Epoch 59/100\n",
      "231/231 [==============================] - 0s 2ms/step - loss: 0.0139\n",
      "Epoch 60/100\n",
      "231/231 [==============================] - 1s 2ms/step - loss: 0.0132\n",
      "Epoch 61/100\n",
      "231/231 [==============================] - 0s 2ms/step - loss: 0.0126\n",
      "Epoch 62/100\n",
      "231/231 [==============================] - 1s 3ms/step - loss: 0.0120\n",
      "Epoch 63/100\n",
      "231/231 [==============================] - 0s 2ms/step - loss: 0.0114\n",
      "Epoch 64/100\n",
      "231/231 [==============================] - 1s 3ms/step - loss: 0.0109\n",
      "Epoch 65/100\n",
      "231/231 [==============================] - 1s 3ms/step - loss: 0.0104\n",
      "Epoch 66/100\n",
      "231/231 [==============================] - 1s 3ms/step - loss: 0.0099\n",
      "Epoch 67/100\n",
      "231/231 [==============================] - 1s 3ms/step - loss: 0.0095\n",
      "Epoch 68/100\n",
      "231/231 [==============================] - 1s 3ms/step - loss: 0.0091\n",
      "Epoch 69/100\n",
      "231/231 [==============================] - 1s 3ms/step - loss: 0.0087\n",
      "Epoch 70/100\n",
      "231/231 [==============================] - 1s 3ms/step - loss: 0.0084\n",
      "Epoch 71/100\n",
      "231/231 [==============================] - 1s 3ms/step - loss: 0.0081\n",
      "Epoch 72/100\n",
      "231/231 [==============================] - 1s 3ms/step - loss: 0.0078\n",
      "Epoch 73/100\n",
      "231/231 [==============================] - 1s 2ms/step - loss: 0.0075\n",
      "Epoch 74/100\n",
      "231/231 [==============================] - 1s 2ms/step - loss: 0.0073\n",
      "Epoch 75/100\n",
      "231/231 [==============================] - 1s 2ms/step - loss: 0.0071\n",
      "Epoch 76/100\n",
      "231/231 [==============================] - 1s 2ms/step - loss: 0.0069\n",
      "Epoch 77/100\n",
      "231/231 [==============================] - 1s 3ms/step - loss: 0.0067\n",
      "Epoch 78/100\n",
      "231/231 [==============================] - 1s 2ms/step - loss: 0.0065\n",
      "Epoch 79/100\n",
      "231/231 [==============================] - 1s 2ms/step - loss: 0.0063\n",
      "Epoch 80/100\n",
      "231/231 [==============================] - 1s 3ms/step - loss: 0.0061\n",
      "Epoch 81/100\n",
      "231/231 [==============================] - 1s 3ms/step - loss: 0.0060\n",
      "Epoch 82/100\n",
      "231/231 [==============================] - 1s 3ms/step - loss: 0.0059\n",
      "Epoch 83/100\n",
      "231/231 [==============================] - 1s 3ms/step - loss: 0.0057\n",
      "Epoch 84/100\n",
      "231/231 [==============================] - 1s 3ms/step - loss: 0.0056\n",
      "Epoch 85/100\n",
      "231/231 [==============================] - 0s 2ms/step - loss: 0.0055\n",
      "Epoch 86/100\n",
      "231/231 [==============================] - 0s 2ms/step - loss: 0.0054\n",
      "Epoch 87/100\n",
      "231/231 [==============================] - 0s 2ms/step - loss: 0.0053\n",
      "Epoch 88/100\n",
      "231/231 [==============================] - 1s 3ms/step - loss: 0.0052\n",
      "Epoch 89/100\n",
      "231/231 [==============================] - 1s 2ms/step - loss: 0.0052\n",
      "Epoch 90/100\n",
      "231/231 [==============================] - 0s 2ms/step - loss: 0.0051\n",
      "Epoch 91/100\n",
      "231/231 [==============================] - 1s 3ms/step - loss: 0.0050\n",
      "Epoch 92/100\n",
      "231/231 [==============================] - 1s 2ms/step - loss: 0.0050\n",
      "Epoch 93/100\n",
      "231/231 [==============================] - 1s 3ms/step - loss: 0.0049\n",
      "Epoch 94/100\n",
      "231/231 [==============================] - 1s 2ms/step - loss: 0.0048\n",
      "Epoch 95/100\n",
      "231/231 [==============================] - 1s 2ms/step - loss: 0.0048\n",
      "Epoch 96/100\n",
      "231/231 [==============================] - 1s 2ms/step - loss: 0.0047\n",
      "Epoch 97/100\n",
      "231/231 [==============================] - 1s 3ms/step - loss: 0.0047\n",
      "Epoch 98/100\n",
      "231/231 [==============================] - 1s 2ms/step - loss: 0.0047\n",
      "Epoch 99/100\n",
      "231/231 [==============================] - 1s 3ms/step - loss: 0.0046\n",
      "Epoch 100/100\n",
      "231/231 [==============================] - 1s 2ms/step - loss: 0.0046\n"
     ]
    },
    {
     "data": {
      "text/plain": [
       "<keras.callbacks.History at 0x2840dd80640>"
      ]
     },
     "execution_count": 15,
     "metadata": {},
     "output_type": "execute_result"
    }
   ],
   "source": [
    "model=Sequential()\n",
    "\n",
    "model.add(LSTM(32,return_sequences=False,input_shape=(1,trainX.shape[1]),activation='relu'))\n",
    "model.add(Dense(1))\n",
    "model.compile(optimizer='adam',loss='mean_squared_error')\n",
    "model.fit(X_train,Y_train,epochs=100,batch_size=8,verbose=1,shuffle=False)\n"
   ]
  },
  {
   "cell_type": "markdown",
   "id": "1b2b59be",
   "metadata": {},
   "source": [
    "# Model Prediction"
   ]
  },
  {
   "cell_type": "code",
   "execution_count": 17,
   "id": "a5738622",
   "metadata": {},
   "outputs": [
    {
     "name": "stdout",
     "output_type": "stream",
     "text": [
      "6/6 [==============================] - 0s 6ms/step\n"
     ]
    }
   ],
   "source": [
    "y_pred=model.predict(X_test)"
   ]
  },
  {
   "cell_type": "markdown",
   "id": "cc24234e",
   "metadata": {},
   "source": [
    "# Visualizing our prediction with actual values"
   ]
  },
  {
   "cell_type": "code",
   "execution_count": 18,
   "id": "a420f47c",
   "metadata": {},
   "outputs": [
    {
     "data": {
      "image/png": "[encoded data removed]",
      "text/plain": [
       "<Figure size 640x480 with 1 Axes>"
      ]
     },
     "metadata": {},
     "output_type": "display_data"
    }
   ],
   "source": [
    "plt.plot(Y_test,label='True Value')\n",
    "plt.plot(y_pred,label='Model')\n",
    "plt.title('prediction by lstm')\n",
    "plt.legend()\n",
    "plt.show()"
   ]
  },
  {
   "cell_type": "markdown",
   "id": "a4ace48e",
   "metadata": {},
   "source": [
    "# RMSE value for accuracy"
   ]
  },
  {
   "cell_type": "code",
   "execution_count": 21,
   "id": "e7b66fde",
   "metadata": {},
   "outputs": [
    {
     "data": {
      "text/plain": [
       "0.019487494659755567"
      ]
     },
     "execution_count": 21,
     "metadata": {},
     "output_type": "execute_result"
    }
   ],
   "source": [
    "rmse=np.sqrt(np.mean(y_pred-Y_test)**2)\n",
    "rmse"
   ]
  },
  {
   "cell_type": "code",
   "execution_count": null,
   "id": "eeee88a7",
   "metadata": {},
   "outputs": [],
   "source": [
    "Here since RMSE score is close to 0 thus our model is predicting the values correctly"
   ]
  }
 ],
 "metadata": {
  "kernelspec": {
   "display_name": "Python 3 (ipykernel)",
   "language": "python",
   "name": "python3"
  },
  "language_info": {
   "codemirror_mode": {
    "name": "ipython",
    "version": 3
   },
   "file_extension": ".py",
   "mimetype": "text/x-python",
   "name": "python",
   "nbconvert_exporter": "python",
   "pygments_lexer": "ipython3",
   "version": "3.9.13"
  }
 },
 "nbformat": 4,
 "nbformat_minor": 5
}
